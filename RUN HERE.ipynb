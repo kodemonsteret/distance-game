{
 "cells": [
  {
   "cell_type": "code",
   "execution_count": 10,
   "id": "a0d90e79",
   "metadata": {},
   "outputs": [],
   "source": [
    "import geopy.distance\n",
    "from geopy.geocoders import Nominatim\n",
    "import os\n",
    "import numpy as np\n",
    "import pandas as pd\n",
    "import importlib\n",
    "import gamecode as gc\n",
    "import tkinter as tk\n",
    "from tkinter import messagebox\n",
    "import threading\n",
    "import gamecodewithUI as gcui\n"
   ]
  },
  {
   "cell_type": "code",
   "execution_count": null,
   "id": "391a97b3",
   "metadata": {},
   "outputs": [],
   "source": [
    "importlib.reload(gcui)\n",
    "gcui.run_game()"
   ]
  }
 ],
 "metadata": {
  "kernelspec": {
   "display_name": "Python 3",
   "language": "python",
   "name": "python3"
  },
  "language_info": {
   "codemirror_mode": {
    "name": "ipython",
    "version": 3
   },
   "file_extension": ".py",
   "mimetype": "text/x-python",
   "name": "python",
   "nbconvert_exporter": "python",
   "pygments_lexer": "ipython3",
   "version": "3.13.1"
  }
 },
 "nbformat": 4,
 "nbformat_minor": 5
}
